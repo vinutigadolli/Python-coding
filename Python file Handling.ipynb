{
 "cells": [
  {
   "cell_type": "markdown",
   "id": "f89b6e60",
   "metadata": {},
   "source": [
    "# Python File Handling"
   ]
  },
  {
   "cell_type": "markdown",
   "id": "4b0c4c54",
   "metadata": {},
   "source": [
    "File handling is an important part of any web application.\n",
    "\n",
    "Python has several functions for creating, reading, updating, and deleting files."
   ]
  },
  {
   "cell_type": "markdown",
   "id": "d457f17a",
   "metadata": {},
   "source": [
    "The key function for working with files in Python is the open() function.\n",
    "\n",
    "The open() function takes two parameters; filename, and mode.\n",
    "\n",
    "There are four different methods (modes) for opening a file:"
   ]
  },
  {
   "cell_type": "markdown",
   "id": "44b3b2f1",
   "metadata": {},
   "source": [
    "\"r\" - Read - Default value. Opens a file for reading, error if the file does not exist\n",
    "\n",
    "\"a\" - Append - Opens a file for appending, creates the file if it does not exist\n",
    "\n",
    "\"w\" - Write - Opens a file for writing, creates the file if it does not exist\n",
    "\n",
    "\"x\" - Create - Creates the specified file, returns an error if the file exists"
   ]
  },
  {
   "cell_type": "markdown",
   "id": "8fde23c9",
   "metadata": {},
   "source": [
    "# Let's Start"
   ]
  },
  {
   "cell_type": "markdown",
   "id": "4c559e50",
   "metadata": {},
   "source": [
    "To open a file for reading it is enough to specify the name of the file:"
   ]
  },
  {
   "cell_type": "code",
   "execution_count": 11,
   "id": "ccd5d7c1",
   "metadata": {},
   "outputs": [],
   "source": [
    "f = open(\"apj.txt\")"
   ]
  },
  {
   "cell_type": "code",
   "execution_count": 12,
   "id": "4712a9c0",
   "metadata": {},
   "outputs": [
    {
     "name": "stdout",
     "output_type": "stream",
     "text": [
      "Avul Pakir Jainulabdeen Abdul Kalam was an Indian aerospace scientist.\n",
      " who served as the 11th President of India from 2002 to 2007. \n",
      "He was born and raised in Rameswaram, Tamil Nadu.\n",
      " and studied physics and aerospace engineering.\n"
     ]
    }
   ],
   "source": [
    "print(f.read())"
   ]
  },
  {
   "cell_type": "markdown",
   "id": "31d333e9",
   "metadata": {},
   "source": [
    "The open() function returns a file object, which has a read() method for reading the content of the file:"
   ]
  },
  {
   "cell_type": "markdown",
   "id": "77290b2f",
   "metadata": {},
   "source": [
    "### Open a file on a different location:\n",
    "\n"
   ]
  },
  {
   "cell_type": "code",
   "execution_count": 22,
   "id": "38f48fdd",
   "metadata": {},
   "outputs": [],
   "source": [
    "# f = open(\"location\\apj.txt\", \"r\")\n",
    "# print(f.read())"
   ]
  },
  {
   "cell_type": "markdown",
   "id": "1394ec83",
   "metadata": {},
   "source": [
    "Loop through the file line by line:"
   ]
  },
  {
   "cell_type": "code",
   "execution_count": 9,
   "id": "ed6b8ccf",
   "metadata": {},
   "outputs": [
    {
     "name": "stdout",
     "output_type": "stream",
     "text": [
      "Avul Pakir Jainulabdeen Abdul Kalam was an Indian aerospace scientist.\n",
      "\n",
      " who served as the 11th President of India from 2002 to 2007. \n",
      "\n",
      "He was born and raised in Rameswaram, Tamil Nadu.\n",
      "\n",
      " and studied physics and aerospace engineering.\n"
     ]
    }
   ],
   "source": [
    "f = open(\"apj.txt\", \"r\")\n",
    "for x in f:\n",
    "  print(x)"
   ]
  },
  {
   "cell_type": "markdown",
   "id": "a50d83b6",
   "metadata": {},
   "source": [
    "### Close the file when you are finish with it:"
   ]
  },
  {
   "cell_type": "code",
   "execution_count": 14,
   "id": "6d856d62",
   "metadata": {},
   "outputs": [],
   "source": [
    "f.close()"
   ]
  },
  {
   "cell_type": "markdown",
   "id": "491b9957",
   "metadata": {},
   "source": [
    "# Python File Write"
   ]
  },
  {
   "cell_type": "markdown",
   "id": "fcfd9d15",
   "metadata": {},
   "source": [
    "To write to an existing file, you must add a parameter to the open() function:\n",
    "\n",
    "\"a\" - Append - will append to the end of the file\n",
    "\n",
    "\"w\" - Write - will overwrite any existing content"
   ]
  },
  {
   "cell_type": "code",
   "execution_count": 15,
   "id": "c8869900",
   "metadata": {},
   "outputs": [
    {
     "name": "stdout",
     "output_type": "stream",
     "text": [
      "Avul Pakir Jainulabdeen Abdul Kalam was an Indian aerospace scientist.\n",
      " who served as the 11th President of India from 2002 to 2007. \n",
      "He was born and raised in Rameswaram, Tamil Nadu.\n",
      " and studied physics and aerospace engineering.He was a brilliant man\n"
     ]
    }
   ],
   "source": [
    "f = open(\"apj.txt\", \"a\")\n",
    "f.write(\"He was a brilliant man\")\n",
    "f.close()\n",
    "\n",
    "#open and read the file after the appending:\n",
    "f = open(\"apj.txt\", \"r\")\n",
    "print(f.read())"
   ]
  },
  {
   "cell_type": "code",
   "execution_count": 16,
   "id": "07ad6dcb",
   "metadata": {},
   "outputs": [
    {
     "name": "stdout",
     "output_type": "stream",
     "text": [
      "Woops! I have deleted the content!\n"
     ]
    }
   ],
   "source": [
    "f = open(\"apj1.txt\", \"w\")\n",
    "f.write(\"Woops! I have deleted the content!\")\n",
    "f.close()\n",
    "\n",
    "#open and read the file after the appending:\n",
    "f = open(\"apj1.txt\", \"r\")\n",
    "print(f.read())"
   ]
  },
  {
   "cell_type": "markdown",
   "id": "330b45e5",
   "metadata": {},
   "source": [
    "Note: the \"w\" method will overwrite the entire file."
   ]
  },
  {
   "cell_type": "code",
   "execution_count": null,
   "id": "17cc97c5",
   "metadata": {},
   "outputs": [],
   "source": [
    "## Create a file called \"newfile.txt\":\n",
    "# note \"x\" - Create - Creates the specified file, returns an error if the file exists"
   ]
  },
  {
   "cell_type": "code",
   "execution_count": 17,
   "id": "ab1ee1ea",
   "metadata": {},
   "outputs": [],
   "source": [
    "f = open(\"newfile.txt\", \"x\")"
   ]
  },
  {
   "cell_type": "code",
   "execution_count": 19,
   "id": "bc5c9769",
   "metadata": {},
   "outputs": [],
   "source": [
    "f.close()"
   ]
  },
  {
   "cell_type": "markdown",
   "id": "2deb6908",
   "metadata": {},
   "source": [
    "# Delete a File\n",
    "### To delete a file, you must import the OS module, and run its os.remove() function:\n",
    "\n"
   ]
  },
  {
   "cell_type": "code",
   "execution_count": 20,
   "id": "cee74f15",
   "metadata": {},
   "outputs": [],
   "source": [
    "# Remove the file \"newfile.txt\":\n",
    "# Note You have to first close the file\n",
    "import os\n",
    "os.remove(\"newfile.txt\")"
   ]
  },
  {
   "cell_type": "code",
   "execution_count": 21,
   "id": "52fc4544",
   "metadata": {},
   "outputs": [
    {
     "name": "stdout",
     "output_type": "stream",
     "text": [
      "The file does not exist\n"
     ]
    }
   ],
   "source": [
    "# Check if file exists, then delete it:\n",
    "\n",
    "import os\n",
    "if os.path.exists(\"demofile.txt\"):\n",
    "    os.remove(\"demofile.txt\")\n",
    "else:\n",
    "    print(\"The file does not exist\")"
   ]
  },
  {
   "cell_type": "code",
   "execution_count": null,
   "id": "64463a06",
   "metadata": {},
   "outputs": [],
   "source": []
  }
 ],
 "metadata": {
  "kernelspec": {
   "display_name": "Python 3",
   "language": "python",
   "name": "python3"
  },
  "language_info": {
   "codemirror_mode": {
    "name": "ipython",
    "version": 3
   },
   "file_extension": ".py",
   "mimetype": "text/x-python",
   "name": "python",
   "nbconvert_exporter": "python",
   "pygments_lexer": "ipython3",
   "version": "3.8.8"
  }
 },
 "nbformat": 4,
 "nbformat_minor": 5
}
