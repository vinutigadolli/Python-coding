{
 "cells": [
  {
   "cell_type": "markdown",
   "id": "d068a1a8",
   "metadata": {},
   "source": [
    "# OS Module in Python"
   ]
  },
  {
   "cell_type": "markdown",
   "id": "08811bbd",
   "metadata": {},
   "source": [
    "The OS module in Python provides functions for interacting with the operating system. OS comes under Python’s standard utility modules. This module provides a portable way of using operating system-dependent functionality. The *os* and *os.path* modules include many functions to interact with the file system."
   ]
  },
  {
   "cell_type": "markdown",
   "id": "bf7ee7e2",
   "metadata": {},
   "source": [
    "### Handling the Current Working Directory"
   ]
  },
  {
   "cell_type": "code",
   "execution_count": 1,
   "id": "7ba033a1",
   "metadata": {},
   "outputs": [],
   "source": [
    "import os"
   ]
  },
  {
   "cell_type": "code",
   "execution_count": 2,
   "id": "392fe1f9",
   "metadata": {},
   "outputs": [
    {
     "name": "stdout",
     "output_type": "stream",
     "text": [
      "C:\\Users\\Manju\\Desktop\\DATA science\\board infinity\\GIT\n"
     ]
    }
   ],
   "source": [
    "cwd = os.getcwd() \n",
    "print(cwd)"
   ]
  },
  {
   "cell_type": "markdown",
   "id": "4cba6bb7",
   "metadata": {},
   "source": [
    "### Changing the Current working directory\n",
    "\n",
    "To change the current working directory(CWD) os.chdir() method is used. This method changes the CWD to a specified path. It only takes a single argument as a new directory path.\n",
    " \n",
    "\n",
    "Note: The current working directory is the folder in which the Python script is operating.\n"
   ]
  },
  {
   "cell_type": "code",
   "execution_count": 3,
   "id": "247810ef",
   "metadata": {},
   "outputs": [
    {
     "name": "stdout",
     "output_type": "stream",
     "text": [
      "Current working directory before\n",
      "C:\\Users\\Manju\\Desktop\\DATA science\\board infinity\\GIT\n",
      "\n",
      "C:\\Users\\Manju\\Desktop\\DATA science\\board infinity\n"
     ]
    }
   ],
   "source": [
    "\n",
    "print(\"Current working directory before\") \n",
    "print(os.getcwd()) \n",
    "print() \n",
    "\n",
    "# Changing the CWD \n",
    "os.chdir('../') \n",
    "    \n",
    "# Printing CWD after \n",
    "print(os.getcwd()) "
   ]
  },
  {
   "cell_type": "markdown",
   "id": "d9d4d375",
   "metadata": {},
   "source": [
    "# Creating a Directory\n",
    "There are different methods available in the OS module for creating a directory. These are –\n",
    "\n",
    "os.mkdir()\n",
    "\n",
    "os.makedirs()"
   ]
  },
  {
   "cell_type": "markdown",
   "id": "061ded5c",
   "metadata": {},
   "source": [
    "### Using os.mkdir()"
   ]
  },
  {
   "cell_type": "code",
   "execution_count": 4,
   "id": "8e7b9604",
   "metadata": {},
   "outputs": [],
   "source": [
    "# os.mkdir() method in Python is used to create a directory named path with the specified numeric mode.\n",
    "# This method raises FileExistsError if the directory to be created already exists"
   ]
  },
  {
   "cell_type": "code",
   "execution_count": 6,
   "id": "619a2e43",
   "metadata": {},
   "outputs": [
    {
     "name": "stdout",
     "output_type": "stream",
     "text": [
      "Directory 'welcome_os' created\n"
     ]
    }
   ],
   "source": [
    "# importing os module \n",
    "import os \n",
    "  \n",
    "# Directory \n",
    "directory = \"welcome_os\"\n",
    "  \n",
    "# Parent Directory path \n",
    "parent_dir = \"C:/Users/Manju/Desktop/DATA science/GitHub\"\n",
    "  \n",
    "# Path \n",
    "path = os.path.join(parent_dir, directory) \n",
    "  \n",
    "# Create the directory \n",
    "# 'welcome_os' in \n",
    "# '/Desktop / Data science / Github' \n",
    "os.mkdir(path) \n",
    "print(\"Directory '% s' created\" % directory) "
   ]
  },
  {
   "cell_type": "markdown",
   "id": "e555e7e3",
   "metadata": {},
   "source": [
    "### Using os.makedirs()"
   ]
  },
  {
   "cell_type": "markdown",
   "id": "f67a57d9",
   "metadata": {},
   "source": [
    "os.makedirs() method in Python is used to create a directory recursively. That means while making leaf directory if any intermediate-level directory is missing, os.makedirs() method will create them all."
   ]
  },
  {
   "cell_type": "code",
   "execution_count": 9,
   "id": "3048e4b2",
   "metadata": {},
   "outputs": [
    {
     "name": "stdout",
     "output_type": "stream",
     "text": [
      "Directory 'welcome_os_under' created\n"
     ]
    }
   ],
   "source": [
    "# importing os module \n",
    "import os \n",
    "      \n",
    "# Leaf directory \n",
    "directory = \"welcome_os_under\"\n",
    "      \n",
    "# Parent Directories \n",
    "parent_dir = \"C:/Users/Manju/Desktop/DATA science/GitHub/Sub1/sub2\"\n",
    "      \n",
    "# Path \n",
    "path = os.path.join(parent_dir, directory) \n",
    "      \n",
    "# Create the directory \n",
    "# 'welcome_os_under' \n",
    "os.makedirs(path) \n",
    "print(\"Directory '% s' created\" % directory) \n",
    "      \n",
    "# Directory 'Sub1' and 'sub2' will \n",
    "# be created too \n",
    "# if it does not exists"
   ]
  },
  {
   "cell_type": "markdown",
   "id": "54529d94",
   "metadata": {},
   "source": [
    "### Listing out Files and Directories with Python\n",
    "os.listdir() method in Python is used to get the list of all files and directories in the specified directory. If we don’t specify any directory, then the list of files and directories in the current working directory will be returned."
   ]
  },
  {
   "cell_type": "code",
   "execution_count": null,
   "id": "06bce995",
   "metadata": {},
   "outputs": [],
   "source": [
    "# importing os module \n",
    "import os \n",
    "  \n",
    "# Get the list of all files and directories \n",
    "# in the root directory \n",
    "path = \"/\"\n",
    "dir_list = os.listdir(path) \n",
    "  \n",
    "print(\"Files and directories in '\", path, \"' :\") \n",
    "  \n",
    "# print the list \n",
    "print(dir_list) \n",
    "#run this code in your notebook"
   ]
  },
  {
   "cell_type": "markdown",
   "id": "710b94bb",
   "metadata": {},
   "source": [
    "### Deleting Directory or Files using Python\n",
    "OS module proves different methods for removing directories and files in Python. These are – \n",
    "\n",
    "Using os.remove()\n",
    "\n",
    "Using os.rmdir()"
   ]
  },
  {
   "cell_type": "code",
   "execution_count": 11,
   "id": "3e8f6944",
   "metadata": {},
   "outputs": [],
   "source": [
    "# importing os module \n",
    "import os \n",
    "      \n",
    "# File name \n",
    "file = 'welcome_os_under'\n",
    "      \n",
    "# File location \n",
    "location = \"C:/Users/Manju/Desktop/DATA science/GitHub/Sub1/sub2\"\n",
    "      \n",
    "# Path \n",
    "path = os.path.join(location, file) \n",
    "      \n",
    "# Remove the directory \n",
    "# 'welcome_os_under' \n",
    "os.rmdir(path) "
   ]
  }
 ],
 "metadata": {
  "kernelspec": {
   "display_name": "Python 3",
   "language": "python",
   "name": "python3"
  },
  "language_info": {
   "codemirror_mode": {
    "name": "ipython",
    "version": 3
   },
   "file_extension": ".py",
   "mimetype": "text/x-python",
   "name": "python",
   "nbconvert_exporter": "python",
   "pygments_lexer": "ipython3",
   "version": "3.8.8"
  }
 },
 "nbformat": 4,
 "nbformat_minor": 5
}
